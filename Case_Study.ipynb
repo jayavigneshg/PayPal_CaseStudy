{
 "cells": [
  {
   "cell_type": "code",
   "execution_count": 7,
   "metadata": {},
   "outputs": [
    {
     "name": "stdout",
     "output_type": "stream",
     "text": [
      "       relationship_length   site_visits\n",
      "count           679.000000    679.000000\n",
      "mean              8.930781    434.173785\n",
      "std               8.966321   1506.907154\n",
      "min               1.000000      0.000000\n",
      "25%               2.000000     28.000000\n",
      "50%               5.000000     97.000000\n",
      "75%              13.000000    301.000000\n",
      "max              30.000000  16551.000000\n"
     ]
    },
    {
     "data": {
      "image/png": "[encoded data removed]",
      "text/plain": [
       "<Figure size 432x288 with 1 Axes>"
      ]
     },
     "metadata": {
      "needs_background": "light"
     },
     "output_type": "display_data"
    }
   ],
   "source": [
    "import pandas as pd\n",
    "from matplotlib import pyplot as plt\n",
    "df_pp=pd.DataFrame(pd.read_csv(\"C:\\\\Users\\\\jayavign\\\\Documents\\\\Personal\\\\PayPal2\\\\vendor_case_study_2\\\\vendor_case_study_2\\\\subscriber_data_sample.csv\"))\n",
    "print(df_pp.describe())\n",
    "plt.hist(df_pp[\"site_visits\"])\n",
    "plt.show() "
   ]
  },
  {
   "cell_type": "code",
   "execution_count": 9,
   "metadata": {},
   "outputs": [
    {
     "name": "stdout",
     "output_type": "stream",
     "text": [
      "       relationship_length  site_visits\n",
      "count            44.000000    44.000000\n",
      "mean              8.931818   349.431818\n",
      "std               9.309654   665.733042\n",
      "min               1.000000     0.000000\n",
      "25%               2.000000    15.000000\n",
      "50%               5.000000    71.500000\n",
      "75%              12.250000   371.750000\n",
      "max              30.000000  3789.000000\n"
     ]
    },
    {
     "data": {
      "image/png": "[encoded data removed]",
      "text/plain": [
       "<Figure size 432x288 with 1 Axes>"
      ]
     },
     "metadata": {
      "needs_background": "light"
     },
     "output_type": "display_data"
    }
   ],
   "source": [
    "# df_pp\n",
    "df_ari=df_pp[df_pp[\"industry\"] =='home and garden']\n",
    "print(df_ari.describe())\n",
    "plt.hist(df_ari[\"site_visits\"])\n",
    "plt.show() "
   ]
  },
  {
   "cell_type": "code",
   "execution_count": 11,
   "metadata": {},
   "outputs": [
    {
     "name": "stdout",
     "output_type": "stream",
     "text": [
      "       relationship_length  site_visits\n",
      "count            34.000000    34.000000\n",
      "mean              6.735294   247.088235\n",
      "std               7.123622   358.908646\n",
      "min               1.000000     0.000000\n",
      "25%               2.000000    17.500000\n",
      "50%               3.000000    63.500000\n",
      "75%               9.750000   307.500000\n",
      "max              30.000000  1571.000000\n"
     ]
    },
    {
     "data": {
      "image/png": "[encoded data removed]",
      "text/plain": [
       "<Figure size 432x288 with 1 Axes>"
      ]
     },
     "metadata": {
      "needs_background": "light"
     },
     "output_type": "display_data"
    }
   ],
   "source": [
    "# df_pp\n",
    "df_ari=df_pp[df_pp[\"industry\"] =='garden']\n",
    "print(df_ari.describe())\n",
    "plt.hist(df_ari[\"site_visits\"])\n",
    "plt.show() "
   ]
  },
  {
   "cell_type": "code",
   "execution_count": 12,
   "metadata": {},
   "outputs": [
    {
     "name": "stdout",
     "output_type": "stream",
     "text": [
      "       relationship_length   site_visits\n",
      "count            31.000000     31.000000\n",
      "mean             10.290323    724.580645\n",
      "std              10.162656   2754.700271\n",
      "min               1.000000      0.000000\n",
      "25%               3.500000     40.000000\n",
      "50%               6.000000    102.000000\n",
      "75%              12.500000    265.000000\n",
      "max              30.000000  15437.000000\n"
     ]
    },
    {
     "data": {
      "image/png": "[encoded data removed]",
      "text/plain": [
       "<Figure size 432x288 with 1 Axes>"
      ]
     },
     "metadata": {
      "needs_background": "light"
     },
     "output_type": "display_data"
    }
   ],
   "source": [
    "# df_pp\n",
    "df_ari=df_pp[df_pp[\"industry\"] =='gardening']\n",
    "print(df_ari.describe())\n",
    "plt.hist(df_ari[\"site_visits\"])\n",
    "plt.show() "
   ]
  },
  {
   "cell_type": "code",
   "execution_count": 13,
   "metadata": {},
   "outputs": [
    {
     "name": "stdout",
     "output_type": "stream",
     "text": [
      "       relationship_length  site_visits\n",
      "count            27.000000    27.000000\n",
      "mean              9.111111   191.037037\n",
      "std               9.324630   185.698366\n",
      "min               1.000000     0.000000\n",
      "25%               2.000000    32.000000\n",
      "50%               6.000000   167.000000\n",
      "75%              11.500000   309.500000\n",
      "max              30.000000   667.000000\n"
     ]
    },
    {
     "data": {
      "image/png": "[encoded data removed]",
      "text/plain": [
       "<Figure size 432x288 with 1 Axes>"
      ]
     },
     "metadata": {
      "needs_background": "light"
     },
     "output_type": "display_data"
    }
   ],
   "source": [
    "# df_pp\n",
    "df_ari=df_pp[df_pp[\"industry\"] =='hg']\n",
    "print(df_ari.describe())\n",
    "plt.hist(df_ari[\"site_visits\"])\n",
    "plt.show() "
   ]
  },
  {
   "cell_type": "code",
   "execution_count": null,
   "metadata": {},
   "outputs": [],
   "source": []
  }
 ],
 "metadata": {
  "kernelspec": {
   "display_name": "Python 3",
   "language": "python",
   "name": "python3"
  },
  "language_info": {
   "codemirror_mode": {
    "name": "ipython",
    "version": 3
   },
   "file_extension": ".py",
   "mimetype": "text/x-python",
   "name": "python",
   "nbconvert_exporter": "python",
   "pygments_lexer": "ipython3",
   "version": "3.7.3"
  }
 },
 "nbformat": 4,
 "nbformat_minor": 2
}
